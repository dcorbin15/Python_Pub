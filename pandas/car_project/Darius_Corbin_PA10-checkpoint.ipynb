{
 "cells": [
  {
   "cell_type": "markdown",
   "id": "a08f6338",
   "metadata": {},
   "source": [
    "# Linear Regression w/ MPG Data"
   ]
  },
  {
   "cell_type": "code",
   "execution_count": 1,
   "id": "bd86dd78",
   "metadata": {},
   "outputs": [],
   "source": [
    "import pandas as pd\n",
    "import seaborn as sns\n",
    "import matplotlib.pyplot as plt\n",
    "from sklearn.linear_model import LinearRegression\n",
    "from sklearn.model_selection import train_test_split"
   ]
  },
  {
   "cell_type": "markdown",
   "id": "e16d23c5",
   "metadata": {},
   "source": [
    "# Tasks"
   ]
  },
  {
   "cell_type": "markdown",
   "id": "e34afa3a",
   "metadata": {},
   "source": [
    "#### 1. The data file for this project is available from the Seaborn website. To load this data into a DataFrame,\n",
    "####        run this code: mpg = sns.load_dataset('mpg') (2 pts.)"
   ]
  },
  {
   "cell_type": "code",
   "execution_count": 2,
   "id": "e4c78cb4",
   "metadata": {},
   "outputs": [],
   "source": [
    "mpg = sns.load_dataset('mpg') "
   ]
  },
  {
   "cell_type": "markdown",
   "id": "d7cc6818",
   "metadata": {},
   "source": [
    "#### 2. Display the first five rows of data (2 pts.)."
   ]
  },
  {
   "cell_type": "code",
   "execution_count": 3,
   "id": "9cf61736",
   "metadata": {},
   "outputs": [
    {
     "data": {
      "text/html": [
       "<div>\n",
       "<style scoped>\n",
       "    .dataframe tbody tr th:only-of-type {\n",
       "        vertical-align: middle;\n",
       "    }\n",
       "\n",
       "    .dataframe tbody tr th {\n",
       "        vertical-align: top;\n",
       "    }\n",
       "\n",
       "    .dataframe thead th {\n",
       "        text-align: right;\n",
       "    }\n",
       "</style>\n",
       "<table border=\"1\" class=\"dataframe\">\n",
       "  <thead>\n",
       "    <tr style=\"text-align: right;\">\n",
       "      <th></th>\n",
       "      <th>mpg</th>\n",
       "      <th>cylinders</th>\n",
       "      <th>displacement</th>\n",
       "      <th>horsepower</th>\n",
       "      <th>weight</th>\n",
       "      <th>acceleration</th>\n",
       "      <th>model_year</th>\n",
       "      <th>origin</th>\n",
       "      <th>name</th>\n",
       "    </tr>\n",
       "  </thead>\n",
       "  <tbody>\n",
       "    <tr>\n",
       "      <th>0</th>\n",
       "      <td>18.0</td>\n",
       "      <td>8</td>\n",
       "      <td>307.0</td>\n",
       "      <td>130.0</td>\n",
       "      <td>3504</td>\n",
       "      <td>12.0</td>\n",
       "      <td>70</td>\n",
       "      <td>usa</td>\n",
       "      <td>chevrolet chevelle malibu</td>\n",
       "    </tr>\n",
       "    <tr>\n",
       "      <th>1</th>\n",
       "      <td>15.0</td>\n",
       "      <td>8</td>\n",
       "      <td>350.0</td>\n",
       "      <td>165.0</td>\n",
       "      <td>3693</td>\n",
       "      <td>11.5</td>\n",
       "      <td>70</td>\n",
       "      <td>usa</td>\n",
       "      <td>buick skylark 320</td>\n",
       "    </tr>\n",
       "    <tr>\n",
       "      <th>2</th>\n",
       "      <td>18.0</td>\n",
       "      <td>8</td>\n",
       "      <td>318.0</td>\n",
       "      <td>150.0</td>\n",
       "      <td>3436</td>\n",
       "      <td>11.0</td>\n",
       "      <td>70</td>\n",
       "      <td>usa</td>\n",
       "      <td>plymouth satellite</td>\n",
       "    </tr>\n",
       "    <tr>\n",
       "      <th>3</th>\n",
       "      <td>16.0</td>\n",
       "      <td>8</td>\n",
       "      <td>304.0</td>\n",
       "      <td>150.0</td>\n",
       "      <td>3433</td>\n",
       "      <td>12.0</td>\n",
       "      <td>70</td>\n",
       "      <td>usa</td>\n",
       "      <td>amc rebel sst</td>\n",
       "    </tr>\n",
       "    <tr>\n",
       "      <th>4</th>\n",
       "      <td>17.0</td>\n",
       "      <td>8</td>\n",
       "      <td>302.0</td>\n",
       "      <td>140.0</td>\n",
       "      <td>3449</td>\n",
       "      <td>10.5</td>\n",
       "      <td>70</td>\n",
       "      <td>usa</td>\n",
       "      <td>ford torino</td>\n",
       "    </tr>\n",
       "  </tbody>\n",
       "</table>\n",
       "</div>"
      ],
      "text/plain": [
       "    mpg  cylinders  displacement  horsepower  weight  acceleration  \\\n",
       "0  18.0          8         307.0       130.0    3504          12.0   \n",
       "1  15.0          8         350.0       165.0    3693          11.5   \n",
       "2  18.0          8         318.0       150.0    3436          11.0   \n",
       "3  16.0          8         304.0       150.0    3433          12.0   \n",
       "4  17.0          8         302.0       140.0    3449          10.5   \n",
       "\n",
       "   model_year origin                       name  \n",
       "0          70    usa  chevrolet chevelle malibu  \n",
       "1          70    usa          buick skylark 320  \n",
       "2          70    usa         plymouth satellite  \n",
       "3          70    usa              amc rebel sst  \n",
       "4          70    usa                ford torino  "
      ]
     },
     "execution_count": 3,
     "metadata": {},
     "output_type": "execute_result"
    }
   ],
   "source": [
    "mpg.head()"
   ]
  },
  {
   "cell_type": "markdown",
   "id": "056e7b03",
   "metadata": {},
   "source": [
    "#### 3.Get the correlation data for the mpg column. Sort the results to make it easier to\n",
    "####  see the columns  with the stronger correlations (2 pts.)."
   ]
  },
  {
   "cell_type": "code",
   "execution_count": 5,
   "id": "5dc3b08e",
   "metadata": {},
   "outputs": [
    {
     "data": {
      "text/plain": [
       "<AxesSubplot:>"
      ]
     },
     "execution_count": 5,
     "metadata": {},
     "output_type": "execute_result"
    },
    {
     "data": {
      "image/png": "[encoded data removed]",
      "text/plain": [
       "<Figure size 640x480 with 1 Axes>"
      ]
     },
     "metadata": {},
     "output_type": "display_data"
    }
   ],
   "source": [
    "# OR mpg.corr()[['mpg']].sort_values('mpg', ascending=False)\n",
    "sns.heatmap(data=mpg.corr()[['mpg']].sort_values(by='mpg', ascending=False), \n",
    "            annot=True, cmap='Blues', cbar=False, fmt=f'.2f')"
   ]
  },
  {
   "cell_type": "markdown",
   "id": "67a4382e",
   "metadata": {},
   "source": [
    "#### 4.Use the column with the strongest positive or negative correlation to the mpg column to split the data\n",
    "####  into test and training datasets, where the test dataset consists of 20% of the total dataset.\n",
    "####   Be sure to specify a value for the random_state parameter (4 pts.)."
   ]
  },
  {
   "cell_type": "code",
   "execution_count": 6,
   "id": "d41173ec",
   "metadata": {},
   "outputs": [],
   "source": [
    "x_train, x_test, y_train, y_test= train_test_split(mpg[['weight']], mpg[['mpg']], test_size = 0.20, random_state = 20)"
   ]
  },
  {
   "cell_type": "markdown",
   "id": "5b4c9ad1",
   "metadata": {},
   "source": [
    "#### 5.Create a linear regression model from the training dataset (3 pts.)."
   ]
  },
  {
   "cell_type": "code",
   "execution_count": 7,
   "id": "01000e49",
   "metadata": {},
   "outputs": [
    {
     "data": {
      "text/plain": [
       "LinearRegression()"
      ]
     },
     "execution_count": 7,
     "metadata": {},
     "output_type": "execute_result"
    }
   ],
   "source": [
    "model = LinearRegression()\n",
    "model.fit(x_train, y_train)"
   ]
  },
  {
   "cell_type": "markdown",
   "id": "a9461b2c",
   "metadata": {},
   "source": [
    "#### 6.Score the model using the test dataset (2 pts.)."
   ]
  },
  {
   "cell_type": "code",
   "execution_count": 8,
   "id": "aabcfb1b",
   "metadata": {},
   "outputs": [
    {
     "data": {
      "text/plain": [
       "0.6913392734724183"
      ]
     },
     "execution_count": 8,
     "metadata": {},
     "output_type": "execute_result"
    }
   ],
   "source": [
    "model.score(x_test, y_test)"
   ]
  },
  {
   "cell_type": "markdown",
   "id": "ad21dd6a",
   "metadata": {},
   "source": [
    "#### 7.Score the model using the training dataset (2 pts.)."
   ]
  },
  {
   "cell_type": "code",
   "execution_count": 9,
   "id": "9ada4c35",
   "metadata": {},
   "outputs": [],
   "source": [
    "y_predicted = model.predict(x_test)"
   ]
  },
  {
   "cell_type": "markdown",
   "id": "b226a508",
   "metadata": {},
   "source": [
    "#### 8.Predict the y values based on the x values in the test dataset, and store the results in a variable.\n",
    "####  Then, put the predicted values in a new DataFrame (3 pts.)."
   ]
  },
  {
   "cell_type": "code",
   "execution_count": 10,
   "id": "753ab2c6",
   "metadata": {},
   "outputs": [],
   "source": [
    "predicted = pd.DataFrame(y_predicted, columns=['predicted_mpg'])"
   ]
  },
  {
   "cell_type": "markdown",
   "id": "62617da0",
   "metadata": {},
   "source": [
    "#### 9. Join the y_test and predicted data with the x_test data, save the combined data in a new DataFrame,\n",
    "####   and then display the first five rows of data (3 pts.)."
   ]
  },
  {
   "cell_type": "code",
   "execution_count": 11,
   "id": "7fb2eae4",
   "metadata": {},
   "outputs": [
    {
     "data": {
      "text/html": [
       "<div>\n",
       "<style scoped>\n",
       "    .dataframe tbody tr th:only-of-type {\n",
       "        vertical-align: middle;\n",
       "    }\n",
       "\n",
       "    .dataframe tbody tr th {\n",
       "        vertical-align: top;\n",
       "    }\n",
       "\n",
       "    .dataframe thead th {\n",
       "        text-align: right;\n",
       "    }\n",
       "</style>\n",
       "<table border=\"1\" class=\"dataframe\">\n",
       "  <thead>\n",
       "    <tr style=\"text-align: right;\">\n",
       "      <th></th>\n",
       "      <th>weight</th>\n",
       "      <th>mpg</th>\n",
       "      <th>predicted_mpg</th>\n",
       "    </tr>\n",
       "  </thead>\n",
       "  <tbody>\n",
       "    <tr>\n",
       "      <th>0</th>\n",
       "      <td>3563</td>\n",
       "      <td>15.0</td>\n",
       "      <td>18.868866</td>\n",
       "    </tr>\n",
       "    <tr>\n",
       "      <th>1</th>\n",
       "      <td>3410</td>\n",
       "      <td>18.1</td>\n",
       "      <td>20.015039</td>\n",
       "    </tr>\n",
       "    <tr>\n",
       "      <th>2</th>\n",
       "      <td>2320</td>\n",
       "      <td>34.5</td>\n",
       "      <td>28.180585</td>\n",
       "    </tr>\n",
       "    <tr>\n",
       "      <th>3</th>\n",
       "      <td>3410</td>\n",
       "      <td>16.2</td>\n",
       "      <td>20.015039</td>\n",
       "    </tr>\n",
       "    <tr>\n",
       "      <th>4</th>\n",
       "      <td>2587</td>\n",
       "      <td>21.0</td>\n",
       "      <td>26.180401</td>\n",
       "    </tr>\n",
       "  </tbody>\n",
       "</table>\n",
       "</div>"
      ],
      "text/plain": [
       "   weight   mpg  predicted_mpg\n",
       "0    3563  15.0      18.868866\n",
       "1    3410  18.1      20.015039\n",
       "2    2320  34.5      28.180585\n",
       "3    3410  16.2      20.015039\n",
       "4    2587  21.0      26.180401"
      ]
     },
     "execution_count": 11,
     "metadata": {},
     "output_type": "execute_result"
    }
   ],
   "source": [
    "combined = x_test.reset_index(drop=True).join([y_test.reset_index(drop=True), predicted])\n",
    "combined.head()"
   ]
  },
  {
   "cell_type": "markdown",
   "id": "e16b0d56",
   "metadata": {},
   "source": [
    "#### 10. Add the residuals to the new DataFrame created in step 9 (2 pts.)."
   ]
  },
  {
   "cell_type": "code",
   "execution_count": 12,
   "id": "9cf5c59e",
   "metadata": {},
   "outputs": [
    {
     "data": {
      "text/html": [
       "<div>\n",
       "<style scoped>\n",
       "    .dataframe tbody tr th:only-of-type {\n",
       "        vertical-align: middle;\n",
       "    }\n",
       "\n",
       "    .dataframe tbody tr th {\n",
       "        vertical-align: top;\n",
       "    }\n",
       "\n",
       "    .dataframe thead th {\n",
       "        text-align: right;\n",
       "    }\n",
       "</style>\n",
       "<table border=\"1\" class=\"dataframe\">\n",
       "  <thead>\n",
       "    <tr style=\"text-align: right;\">\n",
       "      <th></th>\n",
       "      <th>weight</th>\n",
       "      <th>mpg</th>\n",
       "      <th>predicted_mpg</th>\n",
       "      <th>residuals</th>\n",
       "    </tr>\n",
       "  </thead>\n",
       "  <tbody>\n",
       "    <tr>\n",
       "      <th>0</th>\n",
       "      <td>3563</td>\n",
       "      <td>15.0</td>\n",
       "      <td>18.868866</td>\n",
       "      <td>3.868866</td>\n",
       "    </tr>\n",
       "    <tr>\n",
       "      <th>1</th>\n",
       "      <td>3410</td>\n",
       "      <td>18.1</td>\n",
       "      <td>20.015039</td>\n",
       "      <td>1.915039</td>\n",
       "    </tr>\n",
       "  </tbody>\n",
       "</table>\n",
       "</div>"
      ],
      "text/plain": [
       "   weight   mpg  predicted_mpg  residuals\n",
       "0    3563  15.0      18.868866   3.868866\n",
       "1    3410  18.1      20.015039   1.915039"
      ]
     },
     "execution_count": 12,
     "metadata": {},
     "output_type": "execute_result"
    }
   ],
   "source": [
    "combined['residuals'] = combined.predicted_mpg - combined.mpg \n",
    "combined.head(2)"
   ]
  },
  {
   "cell_type": "markdown",
   "id": "3ec65bbb",
   "metadata": {},
   "source": [
    "#### 11. Plot the residuals in a Seaborn KDE plot (2 pts.)."
   ]
  },
  {
   "cell_type": "code",
   "execution_count": 13,
   "id": "d4cc5613",
   "metadata": {},
   "outputs": [
    {
     "data": {
      "text/plain": [
       "<AxesSubplot:xlabel='weight', ylabel='Density'>"
      ]
     },
     "execution_count": 13,
     "metadata": {},
     "output_type": "execute_result"
    },
    {
     "data": {
      "image/png": "[encoded data removed]",
      "text/plain": [
       "<Figure size 640x480 with 1 Axes>"
      ]
     },
     "metadata": {},
     "output_type": "display_data"
    }
   ],
   "source": [
    "#sns.relplot(data=mpg, x='cylinders')\n",
    "sns.kdeplot(data=mpg, x='weight')"
   ]
  },
  {
   "cell_type": "markdown",
   "id": "8dcff0ef",
   "metadata": {},
   "source": [
    "#### 12. Melt the actual and predicted MPG columns together, assigning appropriate values to the variable and value names (2 pts.)."
   ]
  },
  {
   "cell_type": "code",
   "execution_count": 18,
   "id": "7ec193ea",
   "metadata": {},
   "outputs": [
    {
     "data": {
      "text/html": [
       "<div>\n",
       "<style scoped>\n",
       "    .dataframe tbody tr th:only-of-type {\n",
       "        vertical-align: middle;\n",
       "    }\n",
       "\n",
       "    .dataframe tbody tr th {\n",
       "        vertical-align: top;\n",
       "    }\n",
       "\n",
       "    .dataframe thead th {\n",
       "        text-align: right;\n",
       "    }\n",
       "</style>\n",
       "<table border=\"1\" class=\"dataframe\">\n",
       "  <thead>\n",
       "    <tr style=\"text-align: right;\">\n",
       "      <th></th>\n",
       "      <th>weight</th>\n",
       "      <th>spec_type</th>\n",
       "      <th>mpg_est</th>\n",
       "    </tr>\n",
       "  </thead>\n",
       "  <tbody>\n",
       "    <tr>\n",
       "      <th>0</th>\n",
       "      <td>3563</td>\n",
       "      <td>mpg</td>\n",
       "      <td>15.0</td>\n",
       "    </tr>\n",
       "    <tr>\n",
       "      <th>1</th>\n",
       "      <td>3410</td>\n",
       "      <td>mpg</td>\n",
       "      <td>18.1</td>\n",
       "    </tr>\n",
       "    <tr>\n",
       "      <th>2</th>\n",
       "      <td>2320</td>\n",
       "      <td>mpg</td>\n",
       "      <td>34.5</td>\n",
       "    </tr>\n",
       "    <tr>\n",
       "      <th>3</th>\n",
       "      <td>3410</td>\n",
       "      <td>mpg</td>\n",
       "      <td>16.2</td>\n",
       "    </tr>\n",
       "    <tr>\n",
       "      <th>4</th>\n",
       "      <td>2587</td>\n",
       "      <td>mpg</td>\n",
       "      <td>21.0</td>\n",
       "    </tr>\n",
       "  </tbody>\n",
       "</table>\n",
       "</div>"
      ],
      "text/plain": [
       "   weight spec_type  mpg_est\n",
       "0    3563       mpg     15.0\n",
       "1    3410       mpg     18.1\n",
       "2    2320       mpg     34.5\n",
       "3    3410       mpg     16.2\n",
       "4    2587       mpg     21.0"
      ]
     },
     "execution_count": 18,
     "metadata": {},
     "output_type": "execute_result"
    }
   ],
   "source": [
    "melted = pd.melt(combined, id_vars=['weight'], value_vars=['mpg', 'predicted_mpg'], var_name='spec_type', value_name='mpg_est')\n",
    "melted.head()"
   ]
  },
  {
   "cell_type": "markdown",
   "id": "abd3ca4a",
   "metadata": {},
   "source": [
    "#### 13.Use a Seaborn scatter plot to plot the predicted data (2 pts.)."
   ]
  },
  {
   "cell_type": "code",
   "execution_count": 21,
   "id": "205c20ee",
   "metadata": {},
   "outputs": [
    {
     "data": {
      "text/plain": [
       "Text(0.5, 1.0, 'Projected MPG by Car Weight')"
      ]
     },
     "execution_count": 21,
     "metadata": {},
     "output_type": "execute_result"
    },
    {
     "data": {
      "image/png": "[encoded data removed]",
      "text/plain": [
       "<Figure size 640x480 with 1 Axes>"
      ]
     },
     "metadata": {},
     "output_type": "display_data"
    }
   ],
   "source": [
    "sns.scatterplot(data=melted, x='weight', y='mpg_est', hue='mpg_est', ci=None)\n",
    "plt.title('Projected MPG by Car Weight')"
   ]
  },
  {
   "cell_type": "code",
   "execution_count": null,
   "id": "431ffed0",
   "metadata": {},
   "outputs": [],
   "source": []
  }
 ],
 "metadata": {
  "kernelspec": {
   "display_name": "Python 3 (ipykernel)",
   "language": "python",
   "name": "python3"
  },
  "language_info": {
   "codemirror_mode": {
    "name": "ipython",
    "version": 3
   },
   "file_extension": ".py",
   "mimetype": "text/x-python",
   "name": "python",
   "nbconvert_exporter": "python",
   "pygments_lexer": "ipython3",
   "version": "3.9.13"
  }
 },
 "nbformat": 4,
 "nbformat_minor": 5
}
